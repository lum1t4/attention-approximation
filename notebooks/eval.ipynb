{
 "cells": [
  {
   "cell_type": "code",
   "execution_count": null,
   "id": "b7105f0b",
   "metadata": {},
   "outputs": [
    {
     "name": "stdout",
     "output_type": "stream",
     "text": [
      "  % Total    % Received % Xferd  Average Speed   Time    Time     Time  Current\n",
      "                                 Dload  Upload   Total   Spent    Left  Speed\n",
      "100   288  100   288    0     0   1148      0 --:--:-- --:--:-- --:--:--  1152\n",
      "100   981  100   981    0     0   3372      0 --:--:-- --:--:-- --:--:--  3372\n",
      "  % Total    % Received % Xferd  Average Speed   Time    Time     Time  Current\n",
      "                                 Dload  Upload   Total   Spent    Left  Speed\n",
      "100  1319  100  1319    0     0   6036      0 --:--:-- --:--:-- --:--:--  6050\n",
      "100  475M  100  475M    0     0  30.3M      0  0:00:15  0:00:15 --:--:-- 31.7M\n",
      "  % Total    % Received % Xferd  Average Speed   Time    Time     Time  Current\n",
      "                                 Dload  Upload   Total   Spent    Left  Speed\n",
      "100 1325M  100 1325M    0     0  49.8M      0  0:00:26  0:00:26 --:--:-- 50.5M\n"
     ]
    }
   ],
   "source": [
    "!mkdir -p data/MobileLLM/\n",
    "!curl -L -o \"data/MobileLLM/config.json\" \"https://huggingface.co/mia-llm/MobileLLM-125M-wikitext2raw-hosein/resolve/main/config.json\"\n",
    "!curl -L -o \"data/MobileLLM/model.safetensors\" \"https://huggingface.co/mia-llm/MobileLLM-125M-wikitext2raw-hosein/resolve/main/model.safetensors\"\n",
    "!mkdir -p \"checkpoints/CF128\"\n",
    "!curl -L -o \"checkpoints/CF128/last.pt\" \"https://landslide-big-data-2425.s3.eu-central-1.amazonaws.com/last.pt\"\n",
    "\n",
    "\n"
   ]
  },
  {
   "cell_type": "code",
   "execution_count": null,
   "id": "764b8bb8",
   "metadata": {},
   "outputs": [
    {
     "name": "stdout",
     "output_type": "stream",
     "text": [
      "Transferred 332/332 items from pretrained weights\n"
     ]
    },
    {
     "name": "stderr",
     "output_type": "stream",
     "text": [
      "Overwriting default num_fewshot of lambada_openai from None to 0\n",
      "100%|██████████| 5153/5153 [00:06<00:00, 786.08it/s] \n"
     ]
    },
    {
     "name": "stdout",
     "output_type": "stream",
     "text": [
      "bootstrapping for stddev: perplexity\n"
     ]
    },
    {
     "name": "stderr",
     "output_type": "stream",
     "text": [
      "100%|██████████| 10/10 [00:00<00:00, 16.32it/s]\n",
      "Overwriting default num_fewshot of mmlu_abstract_algebra from None to 0\n",
      "Overwriting default num_fewshot of mmlu_anatomy from None to 0\n",
      "Overwriting default num_fewshot of mmlu_astronomy from None to 0\n",
      "Overwriting default num_fewshot of mmlu_college_biology from None to 0\n",
      "Overwriting default num_fewshot of mmlu_college_chemistry from None to 0\n",
      "Overwriting default num_fewshot of mmlu_college_computer_science from None to 0\n",
      "Overwriting default num_fewshot of mmlu_college_mathematics from None to 0\n",
      "Overwriting default num_fewshot of mmlu_college_physics from None to 0\n",
      "Overwriting default num_fewshot of mmlu_computer_security from None to 0\n",
      "Overwriting default num_fewshot of mmlu_conceptual_physics from None to 0\n",
      "Overwriting default num_fewshot of mmlu_electrical_engineering from None to 0\n",
      "Overwriting default num_fewshot of mmlu_elementary_mathematics from None to 0\n",
      "Overwriting default num_fewshot of mmlu_high_school_biology from None to 0\n",
      "Overwriting default num_fewshot of mmlu_high_school_chemistry from None to 0\n",
      "Overwriting default num_fewshot of mmlu_high_school_computer_science from None to 0\n",
      "Overwriting default num_fewshot of mmlu_high_school_mathematics from None to 0\n",
      "Overwriting default num_fewshot of mmlu_high_school_physics from None to 0\n",
      "Overwriting default num_fewshot of mmlu_high_school_statistics from None to 0\n",
      "Overwriting default num_fewshot of mmlu_machine_learning from None to 0\n",
      "Overwriting default num_fewshot of mmlu_business_ethics from None to 0\n",
      "Overwriting default num_fewshot of mmlu_clinical_knowledge from None to 0\n",
      "Overwriting default num_fewshot of mmlu_college_medicine from None to 0\n",
      "Overwriting default num_fewshot of mmlu_global_facts from None to 0\n",
      "Overwriting default num_fewshot of mmlu_human_aging from None to 0\n",
      "Overwriting default num_fewshot of mmlu_management from None to 0\n",
      "Overwriting default num_fewshot of mmlu_marketing from None to 0\n",
      "Overwriting default num_fewshot of mmlu_medical_genetics from None to 0\n",
      "Overwriting default num_fewshot of mmlu_miscellaneous from None to 0\n",
      "Overwriting default num_fewshot of mmlu_nutrition from None to 0\n",
      "Overwriting default num_fewshot of mmlu_professional_accounting from None to 0\n",
      "Overwriting default num_fewshot of mmlu_professional_medicine from None to 0\n",
      "Overwriting default num_fewshot of mmlu_virology from None to 0\n",
      "Overwriting default num_fewshot of mmlu_econometrics from None to 0\n",
      "Overwriting default num_fewshot of mmlu_high_school_geography from None to 0\n",
      "Overwriting default num_fewshot of mmlu_high_school_government_and_politics from None to 0\n",
      "Overwriting default num_fewshot of mmlu_high_school_macroeconomics from None to 0\n",
      "Overwriting default num_fewshot of mmlu_high_school_microeconomics from None to 0\n",
      "Overwriting default num_fewshot of mmlu_high_school_psychology from None to 0\n",
      "Overwriting default num_fewshot of mmlu_human_sexuality from None to 0\n",
      "Overwriting default num_fewshot of mmlu_professional_psychology from None to 0\n",
      "Overwriting default num_fewshot of mmlu_public_relations from None to 0\n",
      "Overwriting default num_fewshot of mmlu_security_studies from None to 0\n",
      "Overwriting default num_fewshot of mmlu_sociology from None to 0\n",
      "Overwriting default num_fewshot of mmlu_us_foreign_policy from None to 0\n",
      "Overwriting default num_fewshot of mmlu_formal_logic from None to 0\n",
      "Overwriting default num_fewshot of mmlu_high_school_european_history from None to 0\n",
      "Overwriting default num_fewshot of mmlu_high_school_us_history from None to 0\n",
      "Overwriting default num_fewshot of mmlu_high_school_world_history from None to 0\n",
      "Overwriting default num_fewshot of mmlu_international_law from None to 0\n",
      "Overwriting default num_fewshot of mmlu_jurisprudence from None to 0\n",
      "Overwriting default num_fewshot of mmlu_logical_fallacies from None to 0\n",
      "Overwriting default num_fewshot of mmlu_moral_disputes from None to 0\n",
      "Overwriting default num_fewshot of mmlu_moral_scenarios from None to 0\n",
      "Overwriting default num_fewshot of mmlu_philosophy from None to 0\n",
      "Overwriting default num_fewshot of mmlu_prehistory from None to 0\n",
      "Overwriting default num_fewshot of mmlu_professional_law from None to 0\n",
      "Overwriting default num_fewshot of mmlu_world_religions from None to 0\n",
      "100%|██████████| 100/100 [00:00<00:00, 1037.02it/s]\n",
      "100%|██████████| 135/135 [00:00<00:00, 1003.70it/s]\n",
      "100%|██████████| 152/152 [00:00<00:00, 1065.12it/s]\n",
      "100%|██████████| 144/144 [00:00<00:00, 1072.75it/s]\n",
      "100%|██████████| 100/100 [00:00<00:00, 1077.40it/s]\n",
      "100%|██████████| 100/100 [00:00<00:00, 1011.07it/s]\n",
      "100%|██████████| 100/100 [00:00<00:00, 1054.79it/s]\n",
      "100%|██████████| 102/102 [00:00<00:00, 1088.00it/s]\n",
      "100%|██████████| 100/100 [00:00<00:00, 1079.45it/s]\n",
      "100%|██████████| 235/235 [00:01<00:00, 209.35it/s] \n",
      "100%|██████████| 145/145 [00:00<00:00, 1062.55it/s]\n",
      "100%|██████████| 378/378 [00:00<00:00, 1066.26it/s]\n",
      "100%|██████████| 310/310 [00:00<00:00, 1068.98it/s]\n",
      "100%|██████████| 203/203 [00:00<00:00, 1071.89it/s]\n",
      "100%|██████████| 100/100 [00:00<00:00, 1056.31it/s]\n",
      "100%|██████████| 270/270 [00:00<00:00, 1069.68it/s]\n",
      "100%|██████████| 151/151 [00:00<00:00, 1047.18it/s]\n",
      "100%|██████████| 216/216 [00:00<00:00, 1060.42it/s]\n",
      "100%|██████████| 112/112 [00:00<00:00, 1045.04it/s]\n",
      "100%|██████████| 100/100 [00:00<00:00, 1148.20it/s]\n",
      "100%|██████████| 265/265 [00:00<00:00, 1126.26it/s]\n",
      "100%|██████████| 173/173 [00:00<00:00, 1125.14it/s]\n",
      "100%|██████████| 100/100 [00:00<00:00, 1158.88it/s]\n",
      "100%|██████████| 223/223 [00:00<00:00, 1142.79it/s]\n",
      "100%|██████████| 103/103 [00:00<00:00, 1156.58it/s]\n",
      "100%|██████████| 234/234 [00:00<00:00, 1074.06it/s]\n",
      "100%|██████████| 100/100 [00:00<00:00, 1159.81it/s]\n",
      "100%|██████████| 783/783 [00:00<00:00, 1146.57it/s]\n",
      "100%|██████████| 306/306 [00:00<00:00, 1167.18it/s]\n",
      "100%|██████████| 282/282 [00:00<00:00, 1114.97it/s]\n",
      "100%|██████████| 272/272 [00:00<00:00, 1075.73it/s]\n",
      "100%|██████████| 166/166 [00:00<00:00, 1121.94it/s]\n",
      "100%|██████████| 114/114 [00:00<00:00, 1090.90it/s]\n",
      "100%|██████████| 198/198 [00:00<00:00, 1111.79it/s]\n",
      "100%|██████████| 193/193 [00:00<00:00, 1107.71it/s]\n",
      "100%|██████████| 390/390 [00:00<00:00, 1132.77it/s]\n",
      "100%|██████████| 238/238 [00:00<00:00, 1154.72it/s]\n",
      "100%|██████████| 545/545 [00:00<00:00, 1135.03it/s]\n",
      "100%|██████████| 131/131 [00:00<00:00, 1114.24it/s]\n",
      "100%|██████████| 612/612 [00:00<00:00, 1166.98it/s]\n",
      "100%|██████████| 110/110 [00:00<00:00, 1182.11it/s]\n",
      "100%|██████████| 245/245 [00:00<00:00, 1146.58it/s]\n",
      "100%|██████████| 201/201 [00:00<00:00, 1108.93it/s]\n",
      "100%|██████████| 100/100 [00:00<00:00, 1132.45it/s]\n",
      "100%|██████████| 126/126 [00:00<00:00, 1156.19it/s]\n",
      "100%|██████████| 165/165 [00:00<00:00, 1133.94it/s]\n",
      "100%|██████████| 204/204 [00:00<00:00, 1149.51it/s]\n",
      "100%|██████████| 237/237 [00:00<00:00, 1156.56it/s]\n",
      "100%|██████████| 121/121 [00:00<00:00, 1095.72it/s]\n",
      "100%|██████████| 108/108 [00:00<00:00, 1153.75it/s]\n",
      "100%|██████████| 163/163 [00:00<00:00, 1125.35it/s]\n",
      "100%|██████████| 346/346 [00:00<00:00, 1132.32it/s]\n",
      "100%|██████████| 895/895 [00:00<00:00, 1149.06it/s]\n",
      "100%|██████████| 311/311 [00:00<00:00, 1178.69it/s]\n",
      "100%|██████████| 324/324 [00:00<00:00, 1264.01it/s]\n",
      "100%|██████████| 1534/1534 [00:01<00:00, 1026.60it/s]\n",
      "100%|██████████| 171/171 [00:00<00:00, 1232.89it/s]\n"
     ]
    },
    {
     "data": {
      "application/vnd.jupyter.widget-view+json": {
       "model_id": "21b5adfd0adf4036b0399c14760af085",
       "version_major": 2,
       "version_minor": 0
      },
      "text/plain": [
       "README.md: 0.00B [00:00, ?B/s]"
      ]
     },
     "metadata": {},
     "output_type": "display_data"
    },
    {
     "data": {
      "application/vnd.jupyter.widget-view+json": {
       "model_id": "f770579be3bf4b519dd3b2b0f922033f",
       "version_major": 2,
       "version_minor": 0
      },
      "text/plain": [
       "ARC-Challenge/train-00000-of-00001.parqu(…):   0%|          | 0.00/190k [00:00<?, ?B/s]"
      ]
     },
     "metadata": {},
     "output_type": "display_data"
    },
    {
     "data": {
      "application/vnd.jupyter.widget-view+json": {
       "model_id": "bf7cbaef83bb41cf86e2d729797f3e3d",
       "version_major": 2,
       "version_minor": 0
      },
      "text/plain": [
       "ARC-Challenge/test-00000-of-00001.parque(…):   0%|          | 0.00/204k [00:00<?, ?B/s]"
      ]
     },
     "metadata": {},
     "output_type": "display_data"
    },
    {
     "data": {
      "application/vnd.jupyter.widget-view+json": {
       "model_id": "8c1ac018aaff4478b14673972c5b5a48",
       "version_major": 2,
       "version_minor": 0
      },
      "text/plain": [
       "ARC-Challenge/validation-00000-of-00001.(…):   0%|          | 0.00/55.7k [00:00<?, ?B/s]"
      ]
     },
     "metadata": {},
     "output_type": "display_data"
    },
    {
     "data": {
      "application/vnd.jupyter.widget-view+json": {
       "model_id": "80b7c74a1cc342e8aabddcdffadf1fa8",
       "version_major": 2,
       "version_minor": 0
      },
      "text/plain": [
       "Generating train split:   0%|          | 0/1119 [00:00<?, ? examples/s]"
      ]
     },
     "metadata": {},
     "output_type": "display_data"
    },
    {
     "data": {
      "application/vnd.jupyter.widget-view+json": {
       "model_id": "3ad2241236d6449ca0c433279053de96",
       "version_major": 2,
       "version_minor": 0
      },
      "text/plain": [
       "Generating test split:   0%|          | 0/1172 [00:00<?, ? examples/s]"
      ]
     },
     "metadata": {},
     "output_type": "display_data"
    },
    {
     "data": {
      "application/vnd.jupyter.widget-view+json": {
       "model_id": "df38e0a5afd94d0998e741a87a9fb900",
       "version_major": 2,
       "version_minor": 0
      },
      "text/plain": [
       "Generating validation split:   0%|          | 0/299 [00:00<?, ? examples/s]"
      ]
     },
     "metadata": {},
     "output_type": "display_data"
    },
    {
     "name": "stderr",
     "output_type": "stream",
     "text": [
      "Overwriting default num_fewshot of arc_challenge from None to 0\n",
      "100%|██████████| 1172/1172 [00:00<00:00, 2067.82it/s]\n"
     ]
    },
    {
     "data": {
      "application/vnd.jupyter.widget-view+json": {
       "model_id": "fead59d449b34f90a49ce84b1cf92ab0",
       "version_major": 2,
       "version_minor": 0
      },
      "text/plain": [
       "ARC-Easy/train-00000-of-00001.parquet:   0%|          | 0.00/331k [00:00<?, ?B/s]"
      ]
     },
     "metadata": {},
     "output_type": "display_data"
    },
    {
     "data": {
      "application/vnd.jupyter.widget-view+json": {
       "model_id": "38d2640b7b2e476eaaadd51bd656f6ba",
       "version_major": 2,
       "version_minor": 0
      },
      "text/plain": [
       "ARC-Easy/test-00000-of-00001.parquet:   0%|          | 0.00/346k [00:00<?, ?B/s]"
      ]
     },
     "metadata": {},
     "output_type": "display_data"
    },
    {
     "data": {
      "application/vnd.jupyter.widget-view+json": {
       "model_id": "e470ca3381a048499c0604b649172290",
       "version_major": 2,
       "version_minor": 0
      },
      "text/plain": [
       "ARC-Easy/validation-00000-of-00001.parqu(…):   0%|          | 0.00/86.1k [00:00<?, ?B/s]"
      ]
     },
     "metadata": {},
     "output_type": "display_data"
    },
    {
     "data": {
      "application/vnd.jupyter.widget-view+json": {
       "model_id": "c4d4d8b739d24d13a75657fdb4ca1aca",
       "version_major": 2,
       "version_minor": 0
      },
      "text/plain": [
       "Generating train split:   0%|          | 0/2251 [00:00<?, ? examples/s]"
      ]
     },
     "metadata": {},
     "output_type": "display_data"
    },
    {
     "data": {
      "application/vnd.jupyter.widget-view+json": {
       "model_id": "8b853ce8be57412f9118a290517c335a",
       "version_major": 2,
       "version_minor": 0
      },
      "text/plain": [
       "Generating test split:   0%|          | 0/2376 [00:00<?, ? examples/s]"
      ]
     },
     "metadata": {},
     "output_type": "display_data"
    },
    {
     "data": {
      "application/vnd.jupyter.widget-view+json": {
       "model_id": "43b8c43ee5d64f25bee315a0de2b2cf6",
       "version_major": 2,
       "version_minor": 0
      },
      "text/plain": [
       "Generating validation split:   0%|          | 0/570 [00:00<?, ? examples/s]"
      ]
     },
     "metadata": {},
     "output_type": "display_data"
    },
    {
     "name": "stderr",
     "output_type": "stream",
     "text": [
      "Overwriting default num_fewshot of arc_easy from None to 0\n",
      "100%|██████████| 2376/2376 [00:01<00:00, 2136.49it/s]\n"
     ]
    },
    {
     "data": {
      "application/vnd.jupyter.widget-view+json": {
       "model_id": "e488b5435e4747e2b198bd251ed62ff7",
       "version_major": 2,
       "version_minor": 0
      },
      "text/plain": [
       "README.md: 0.00B [00:00, ?B/s]"
      ]
     },
     "metadata": {},
     "output_type": "display_data"
    },
    {
     "data": {
      "application/vnd.jupyter.widget-view+json": {
       "model_id": "1cdf62dcf6d74dd996b709de3b82fedd",
       "version_major": 2,
       "version_minor": 0
      },
      "text/plain": [
       "data/train-00000-of-00001.parquet:   0%|          | 0.00/24.4M [00:00<?, ?B/s]"
      ]
     },
     "metadata": {},
     "output_type": "display_data"
    },
    {
     "data": {
      "application/vnd.jupyter.widget-view+json": {
       "model_id": "931c777625cd4a0686f15e36fc2e4ec6",
       "version_major": 2,
       "version_minor": 0
      },
      "text/plain": [
       "data/test-00000-of-00001.parquet:   0%|          | 0.00/6.11M [00:00<?, ?B/s]"
      ]
     },
     "metadata": {},
     "output_type": "display_data"
    },
    {
     "data": {
      "application/vnd.jupyter.widget-view+json": {
       "model_id": "880e1bfcbe1a48de828690e6d3f86933",
       "version_major": 2,
       "version_minor": 0
      },
      "text/plain": [
       "data/validation-00000-of-00001.parquet:   0%|          | 0.00/6.32M [00:00<?, ?B/s]"
      ]
     },
     "metadata": {},
     "output_type": "display_data"
    },
    {
     "data": {
      "application/vnd.jupyter.widget-view+json": {
       "model_id": "24a08ee39ec743baa7bed40ca2ccd15f",
       "version_major": 2,
       "version_minor": 0
      },
      "text/plain": [
       "Generating train split:   0%|          | 0/39905 [00:00<?, ? examples/s]"
      ]
     },
     "metadata": {},
     "output_type": "display_data"
    },
    {
     "data": {
      "application/vnd.jupyter.widget-view+json": {
       "model_id": "4823029a892c46808355d721f76fa615",
       "version_major": 2,
       "version_minor": 0
      },
      "text/plain": [
       "Generating test split:   0%|          | 0/10003 [00:00<?, ? examples/s]"
      ]
     },
     "metadata": {},
     "output_type": "display_data"
    },
    {
     "data": {
      "application/vnd.jupyter.widget-view+json": {
       "model_id": "0731c7c549cc4a03b509b314d96e5e0b",
       "version_major": 2,
       "version_minor": 0
      },
      "text/plain": [
       "Generating validation split:   0%|          | 0/10042 [00:00<?, ? examples/s]"
      ]
     },
     "metadata": {},
     "output_type": "display_data"
    },
    {
     "data": {
      "application/vnd.jupyter.widget-view+json": {
       "model_id": "b285701c3fcf423889afd0e18f389681",
       "version_major": 2,
       "version_minor": 0
      },
      "text/plain": [
       "Map:   0%|          | 0/39905 [00:00<?, ? examples/s]"
      ]
     },
     "metadata": {},
     "output_type": "display_data"
    },
    {
     "data": {
      "application/vnd.jupyter.widget-view+json": {
       "model_id": "38bba3636c314af688ce7e9cc7249f23",
       "version_major": 2,
       "version_minor": 0
      },
      "text/plain": [
       "Map:   0%|          | 0/10042 [00:00<?, ? examples/s]"
      ]
     },
     "metadata": {},
     "output_type": "display_data"
    },
    {
     "name": "stderr",
     "output_type": "stream",
     "text": [
      "Overwriting default num_fewshot of hellaswag from None to 0\n",
      "100%|██████████| 10042/10042 [00:02<00:00, 4268.03it/s]\n"
     ]
    },
    {
     "data": {
      "application/vnd.jupyter.widget-view+json": {
       "model_id": "fecc58d7239a42c998fa3f5094ffdde6",
       "version_major": 2,
       "version_minor": 0
      },
      "text/plain": [
       "README.md: 0.00B [00:00, ?B/s]"
      ]
     },
     "metadata": {},
     "output_type": "display_data"
    },
    {
     "data": {
      "application/vnd.jupyter.widget-view+json": {
       "model_id": "12b5612ab304466b8abb28967d067c09",
       "version_major": 2,
       "version_minor": 0
      },
      "text/plain": [
       "winogrande_xl/train-00000-of-00001.parqu(…):   0%|          | 0.00/2.06M [00:00<?, ?B/s]"
      ]
     },
     "metadata": {},
     "output_type": "display_data"
    },
    {
     "data": {
      "application/vnd.jupyter.widget-view+json": {
       "model_id": "bae3800144244957b21ad086bc40cc15",
       "version_major": 2,
       "version_minor": 0
      },
      "text/plain": [
       "winogrande_xl/test-00000-of-00001.parque(…):   0%|          | 0.00/118k [00:00<?, ?B/s]"
      ]
     },
     "metadata": {},
     "output_type": "display_data"
    },
    {
     "data": {
      "application/vnd.jupyter.widget-view+json": {
       "model_id": "4377d450e4594b96b1e2ae1b9659cf0d",
       "version_major": 2,
       "version_minor": 0
      },
      "text/plain": [
       "winogrande_xl/validation-00000-of-00001.(…):   0%|          | 0.00/85.9k [00:00<?, ?B/s]"
      ]
     },
     "metadata": {},
     "output_type": "display_data"
    },
    {
     "data": {
      "application/vnd.jupyter.widget-view+json": {
       "model_id": "32945fb6a74c4035b5b7b14b314a551c",
       "version_major": 2,
       "version_minor": 0
      },
      "text/plain": [
       "Generating train split:   0%|          | 0/40398 [00:00<?, ? examples/s]"
      ]
     },
     "metadata": {},
     "output_type": "display_data"
    },
    {
     "data": {
      "application/vnd.jupyter.widget-view+json": {
       "model_id": "7ad19c2e284f442d836ad63bf43f3297",
       "version_major": 2,
       "version_minor": 0
      },
      "text/plain": [
       "Generating test split:   0%|          | 0/1767 [00:00<?, ? examples/s]"
      ]
     },
     "metadata": {},
     "output_type": "display_data"
    },
    {
     "data": {
      "application/vnd.jupyter.widget-view+json": {
       "model_id": "c94533c4ba5747e293841cc0335f5fb2",
       "version_major": 2,
       "version_minor": 0
      },
      "text/plain": [
       "Generating validation split:   0%|          | 0/1267 [00:00<?, ? examples/s]"
      ]
     },
     "metadata": {},
     "output_type": "display_data"
    },
    {
     "name": "stderr",
     "output_type": "stream",
     "text": [
      "Overwriting default num_fewshot of winogrande from None to 0\n",
      "100%|██████████| 1267/1267 [00:00<00:00, 148773.32it/s]\n"
     ]
    },
    {
     "data": {
      "application/vnd.jupyter.widget-view+json": {
       "model_id": "761b03909f0c497788928e6b4cd482cf",
       "version_major": 2,
       "version_minor": 0
      },
      "text/plain": [
       "piqa_train.parquet:   0%|          | 0.00/2.64M [00:00<?, ?B/s]"
      ]
     },
     "metadata": {},
     "output_type": "display_data"
    },
    {
     "data": {
      "application/vnd.jupyter.widget-view+json": {
       "model_id": "21b8a617dc8a4a0792383234d905391e",
       "version_major": 2,
       "version_minor": 0
      },
      "text/plain": [
       "piqa_validation.parquet:   0%|          | 0.00/300k [00:00<?, ?B/s]"
      ]
     },
     "metadata": {},
     "output_type": "display_data"
    },
    {
     "data": {
      "application/vnd.jupyter.widget-view+json": {
       "model_id": "74c42606e47a43b9a887fbb82425a183",
       "version_major": 2,
       "version_minor": 0
      },
      "text/plain": [
       "piqa_test.parquet:   0%|          | 0.00/496k [00:00<?, ?B/s]"
      ]
     },
     "metadata": {},
     "output_type": "display_data"
    },
    {
     "data": {
      "application/vnd.jupyter.widget-view+json": {
       "model_id": "ff4d80fab72e43d09874797692fd3933",
       "version_major": 2,
       "version_minor": 0
      },
      "text/plain": [
       "Generating train split:   0%|          | 0/16113 [00:00<?, ? examples/s]"
      ]
     },
     "metadata": {},
     "output_type": "display_data"
    },
    {
     "data": {
      "application/vnd.jupyter.widget-view+json": {
       "model_id": "df3dc10d15e542fd95a493eccc9cf1fb",
       "version_major": 2,
       "version_minor": 0
      },
      "text/plain": [
       "Generating validation split:   0%|          | 0/1838 [00:00<?, ? examples/s]"
      ]
     },
     "metadata": {},
     "output_type": "display_data"
    },
    {
     "data": {
      "application/vnd.jupyter.widget-view+json": {
       "model_id": "56417c390ba74b3098f61bb6b49d638e",
       "version_major": 2,
       "version_minor": 0
      },
      "text/plain": [
       "Generating test split:   0%|          | 0/3084 [00:00<?, ? examples/s]"
      ]
     },
     "metadata": {},
     "output_type": "display_data"
    },
    {
     "name": "stderr",
     "output_type": "stream",
     "text": [
      "Overwriting default num_fewshot of piqa from None to 0\n",
      "100%|██████████| 1838/1838 [00:00<00:00, 2045.39it/s]\n"
     ]
    }
   ],
   "source": [
    "import os\n",
    "from attention_approximation.evaluation import LlamaApproxEvalAdapter\n",
    "from pathlib import Path\n",
    "import json\n",
    "root = Path.cwd().parent\n",
    "\n",
    "tasks = ['lambada_openai', 'mmlu', 'arc_challenge', 'arc_easy', 'hellaswag', 'winogrande', 'piqa']\n",
    "os.environ['HF_TOKEN'] = ''\n",
    "os.environ[\"HF_EVALUATE_OFFLINE\"] = \"1\"\n",
    "adapter = LlamaApproxEvalAdapter(root / 'checkpoints/CF128/last.pt', root / 'data/MobileLLM/config.json', batch_size=2, device='cuda', seed=1337)\n",
    "for task in tasks:\n",
    "    results = adapter.evaluate([task], num_fewshot=0, limit=None, bootstrap_iters=10000)\n",
    "    with open(f\"{task}.json\", \"w\") as fd:\n",
    "        json.dump(results, fd)"
   ]
  },
  {
   "cell_type": "code",
   "execution_count": null,
   "id": "a4f186a2",
   "metadata": {},
   "outputs": [],
   "source": []
  }
 ],
 "metadata": {
  "kernelspec": {
   "display_name": "attention-approximation",
   "language": "python",
   "name": "python3"
  },
  "language_info": {
   "codemirror_mode": {
    "name": "ipython",
    "version": 3
   },
   "file_extension": ".py",
   "mimetype": "text/x-python",
   "name": "python",
   "nbconvert_exporter": "python",
   "pygments_lexer": "ipython3",
   "version": "3.11.14"
  }
 },
 "nbformat": 4,
 "nbformat_minor": 5
}
